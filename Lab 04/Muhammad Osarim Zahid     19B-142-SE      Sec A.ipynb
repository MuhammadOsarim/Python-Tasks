{
 "cells": [
  {
   "cell_type": "markdown",
   "metadata": {},
   "source": [
    "# Muhammad Osarim Zahid Tasks Lab 04"
   ]
  },
  {
   "cell_type": "code",
   "execution_count": null,
   "metadata": {},
   "outputs": [],
   "source": [
    "# 01\n",
    "from math import sqrt\n",
    "a = eval(input(\"Input value of a: \"))\n",
    "b = eval(input(\"Input value of b: \"))\n",
    "c = eval(input(\"Input value of c: \"))\n",
    "if a==0\n",
    "    print(\"The equation cannot be solved because of the Remainder is zero\")\n",
    "else:\n",
    "    x = (-b + (sqrt((b**2)-(4 * a * c)) / 2 * a)\n",
    "    y = (-b - (sqrt((b**2)-(4 * a * c)) / 2 * a)\n",
    "         \n",
    "         "
   ]
  }
 ],
 "metadata": {
  "kernelspec": {
   "display_name": "Python 3",
   "language": "python",
   "name": "python3"
  },
  "language_info": {
   "codemirror_mode": {
    "name": "ipython",
    "version": 3
   },
   "file_extension": ".py",
   "mimetype": "text/x-python",
   "name": "python",
   "nbconvert_exporter": "python",
   "pygments_lexer": "ipython3",
   "version": "3.6.4"
  }
 },
 "nbformat": 4,
 "nbformat_minor": 2
}
