{
 "cells": [
  {
   "cell_type": "code",
   "execution_count": 5,
   "metadata": {},
   "outputs": [
    {
     "name": "stdout",
     "output_type": "stream",
     "text": [
      "Sum is: 32\n",
      "Difference is: -12\n",
      "Division is: 0.45454545454545453\n",
      "Integer Division is: 0\n",
      "Raised to the Power is: 10000000000000000000000\n",
      "Remaider is: 10\n"
     ]
    }
   ],
   "source": [
    "\n",
    "# Math Operator in Python\n",
    "# taking two values\n",
    "a = 10\n",
    "b = 22\n",
    "\n",
    "#Using sum operator\n",
    "print(\"Sum is:\",a+b)\n",
    "#Using subtract operator\n",
    "print(\"Difference is:\",a-b)\n",
    "#Using multiplication operator\n",
    "print(\"Division is:\",a/b)\n",
    "#Using integer division operator\n",
    "print(\"Integer Division is:\",a//b)\n",
    "#Using power operator\n",
    "print(\"Raised to the Power is:\",a**b)\n",
    "#Using modulo operator\n",
    "print(\"Remaider is:\",a%b)\n"
   ]
  },
  {
   "cell_type": "code",
   "execution_count": 7,
   "metadata": {},
   "outputs": [
    {
     "name": "stdout",
     "output_type": "stream",
     "text": [
      "8\n",
      "2\n",
      "15\n",
      "1.6666666666666667\n",
      "2\n",
      "1\n",
      "125\n",
      "1\n",
      "7\n",
      "6\n",
      "0\n",
      "40\n"
     ]
    }
   ],
   "source": [
    "x=5\n",
    "x +=3\n",
    "print(x)\n",
    "\n",
    "x=5\n",
    "x -=3\n",
    "print(x)\n",
    "\n",
    "x=5\n",
    "x *=3\n",
    "print(x)\n",
    "\n",
    "x=5\n",
    "x /=3\n",
    "print(x)\n",
    "\n",
    "x=5\n",
    "x %=3\n",
    "print(x)\n",
    "\n",
    "x=5\n",
    "x //=3\n",
    "print(x)\n",
    "\n",
    "x=5\n",
    "x **=3\n",
    "print(x)\n",
    "\n",
    "x=5\n",
    "x &=3\n",
    "print(x)\n",
    "\n",
    "x=5\n",
    "x|=3\n",
    "print(x)\n",
    "\n",
    "x=5\n",
    "x ^=3\n",
    "print(x)\n",
    "\n",
    "x=5\n",
    "x >>=3\n",
    "print(x)\n",
    "\n",
    "x=5\n",
    "x <<=3\n",
    "print(x)\n"
   ]
  },
  {
   "cell_type": "code",
   "execution_count": 8,
   "metadata": {},
   "outputs": [
    {
     "name": "stdout",
     "output_type": "stream",
     "text": [
      "X is equal to Y: False\n",
      "X is not equal to Y: True\n",
      "X is Greater than Y: True\n",
      "X is Less than Y: False\n",
      "X is Greater than or equal to Y: True\n",
      "X is Less than or equal to Y: False\n"
     ]
    }
   ],
   "source": [
    "x=20\n",
    "y=15\n",
    "\n",
    "print(\"X is equal to Y:\",x==y)\n",
    "print(\"X is not equal to Y:\",x!=y)\n",
    "print(\"X is Greater than Y:\",x>y)\n",
    "print(\"X is Less than Y:\",x<y)\n",
    "print(\"X is Greater than or equal to Y:\",x>=y)\n",
    "print(\"X is Less than or equal to Y:\",x<=y)\n"
   ]
  },
  {
   "cell_type": "code",
   "execution_count": 9,
   "metadata": {},
   "outputs": [
    {
     "name": "stdout",
     "output_type": "stream",
     "text": [
      "True\n",
      "True\n",
      "False\n"
     ]
    }
   ],
   "source": [
    "x=15\n",
    "print(x>13 and x<20)\n",
    "\n",
    "x=25\n",
    "print(x>23 or x<24)\n",
    "\n",
    "x=35\n",
    "print(not(x>33 and x<40))\n"
   ]
  },
  {
   "cell_type": "code",
   "execution_count": 10,
   "metadata": {},
   "outputs": [
    {
     "name": "stdout",
     "output_type": "stream",
     "text": [
      "True\n",
      "False\n",
      "True\n"
     ]
    }
   ],
   "source": [
    "x=[\"ahmed\",\"bashir\"]\n",
    "y=[\"ahmed\",\"bashir\"]\n",
    "z=x\n",
    "\n",
    "print(x is z)\n",
    "print(x is y)\n",
    "print(x==y)"
   ]
  },
  {
   "cell_type": "code",
   "execution_count": 23,
   "metadata": {},
   "outputs": [
    {
     "name": "stdout",
     "output_type": "stream",
     "text": [
      "False\n",
      "True\n",
      "False\n"
     ]
    }
   ],
   "source": [
    "x=[\"ahmed\",\"bashir\"]\n",
    "y=[\"ahmed\",\"bashir\"]\n",
    "z=x\n",
    "\n",
    "print(x is not z)\n",
    "print(x is not y)\n",
    "print(x != y)"
   ]
  },
  {
   "cell_type": "code",
   "execution_count": 12,
   "metadata": {},
   "outputs": [
    {
     "name": "stdout",
     "output_type": "stream",
     "text": [
      "True\n"
     ]
    }
   ],
   "source": [
    "x=[\"wasim\",\"lubaid\",\"shahroz\",\"usman\",\"faisal\",\"farhan\"]\n",
    "print(\"faisal\"in x)\n"
   ]
  },
  {
   "cell_type": "code",
   "execution_count": 13,
   "metadata": {},
   "outputs": [
    {
     "name": "stdout",
     "output_type": "stream",
     "text": [
      "True\n"
     ]
    }
   ],
   "source": [
    "x=[\"wasim\",\"lubaid\",\"shahroz\",\"usman\",\"faisal\",\"farhan\"]\n",
    "print(\"parkash\" not in x)\n"
   ]
  },
  {
   "cell_type": "code",
   "execution_count": 16,
   "metadata": {},
   "outputs": [
    {
     "name": "stdout",
     "output_type": "stream",
     "text": [
      "Give me a velocity to fire at (in m/s):55\n",
      "Give me an angle t fire at:45\n",
      "Give me how far away you are from the structure:25\n",
      "Give me the height of the structure(in meters):48\n"
     ]
    }
   ],
   "source": [
    "import math\n",
    "#User inputs\n",
    "velocity = float(input('Give me a velocity to fire at (in m/s):'))\n",
    "angle = float(input('Give me an angle t fire at:'))\n",
    "distance = float(input('Give me how far away you are from the structure:'))\n",
    "height = float(input('Give me the height of the structure(in meters):'))\n",
    "slingshot = 5 #Height of slingshot in meters\n",
    "gravity = 9.8 #Earth gravity\n",
    "\n",
    "#Converting angles to radians\n",
    "angleRad = math.radians(angle)\n",
    "\n",
    "#Computing our x and y coordinates\n",
    "x = math.cos(angleRad)\n",
    "y = math.sin(angleRad)\n",
    "\n",
    "#Calculation\n",
    "time = distance/(velocity * x)\n",
    "vx =x\n",
    "vy =y +(-9.8 * time)\n",
    "finalVelocity = math.sqrt((vx**2)+(vy**2))\n"
   ]
  },
  {
   "cell_type": "code",
   "execution_count": 50,
   "metadata": {},
   "outputs": [
    {
     "name": "stdout",
     "output_type": "stream",
     "text": [
      "The velocity is 5.0 m/s\n"
     ]
    }
   ],
   "source": [
    "#Question 1(a)\n",
    "r = 0.5\n",
    "w = 10\n",
    "v=r*w\n",
    "print('The velocity is',v,\"m/s\")\n",
    "\n"
   ]
  },
  {
   "cell_type": "code",
   "execution_count": null,
   "metadata": {},
   "outputs": [],
   "source": []
  },
  {
   "cell_type": "code",
   "execution_count": 49,
   "metadata": {},
   "outputs": [
    {
     "name": "stdout",
     "output_type": "stream",
     "text": [
      "The velocity is 10 m/s\n"
     ]
    }
   ],
   "source": [
    "#Questin 1(b)\n",
    "r = 1\n",
    "w = 10\n",
    "v=r*w\n",
    "print('The velocity is',v,\"m/s\")"
   ]
  },
  {
   "cell_type": "code",
   "execution_count": 48,
   "metadata": {},
   "outputs": [
    {
     "name": "stdout",
     "output_type": "stream",
     "text": [
      "The velocity is 20 m/s\n"
     ]
    }
   ],
   "source": [
    "#Question 1(c)\n",
    "r = 2\n",
    "w = 10\n",
    "v=r*w\n",
    "print('The velocity is',v,\"m/s\")\n"
   ]
  },
  {
   "cell_type": "code",
   "execution_count": 31,
   "metadata": {},
   "outputs": [
    {
     "name": "stdout",
     "output_type": "stream",
     "text": [
      "The Magnitude of linear velocity 2616.5\n"
     ]
    }
   ],
   "source": [
    "#Question 2(a)\n",
    "r = 5\n",
    "w = 523.3\n",
    "v=r*w\n",
    "print('The Magnitude of linear velocity',v)"
   ]
  },
  {
   "cell_type": "code",
   "execution_count": 32,
   "metadata": {},
   "outputs": [
    {
     "name": "stdout",
     "output_type": "stream",
     "text": [
      "The Magnitude of linear velocity 5233.0\n"
     ]
    }
   ],
   "source": [
    "#Question 2(b)\n",
    "r = 10\n",
    "w = 523.3\n",
    "v=r*w\n",
    "print('The Magnitude of linear velocity',v,)"
   ]
  },
  {
   "cell_type": "code",
   "execution_count": 47,
   "metadata": {},
   "outputs": [
    {
     "name": "stdout",
     "output_type": "stream",
     "text": [
      "The Angular velocity is 33.333333333333336 rad/sec\n"
     ]
    }
   ],
   "source": [
    "#Question 3\n",
    "r = 0.3\n",
    "v = 10\n",
    "w=v/r\n",
    "print('The Angular velocity is',w,\"rad/sec\")"
   ]
  },
  {
   "cell_type": "code",
   "execution_count": 46,
   "metadata": {},
   "outputs": [
    {
     "name": "stdout",
     "output_type": "stream",
     "text": [
      "The Angular speed is 40.0 m/s**2\n"
     ]
    }
   ],
   "source": [
    "#Question 4\n",
    "r = 0.25\n",
    "v = 10\n",
    "w=v/r\n",
    "print('The Angular speed is',w,\"m/s**2\")"
   ]
  },
  {
   "cell_type": "code",
   "execution_count": 44,
   "metadata": {},
   "outputs": [
    {
     "name": "stdout",
     "output_type": "stream",
     "text": [
      "The Velocity is 2.5120000000000005 m/s\n",
      "The Distance is 25.120000000000005 m\n"
     ]
    }
   ],
   "source": [
    "#Question 5\n",
    "r = 0.2\n",
    "w = 12.56\n",
    "v=r*w\n",
    "print('The Velocity is',v,\"m/s\")\n",
    "t = 10\n",
    "s=v*t\n",
    "print('The Distance is',s,\"m\")"
   ]
  },
  {
   "cell_type": "code",
   "execution_count": 54,
   "metadata": {},
   "outputs": [
    {
     "name": "stdout",
     "output_type": "stream",
     "text": [
      "The velocity is\n"
     ]
    },
    {
     "data": {
      "text/plain": [
       "(None, 0.14903916666669334, 'm/s')"
      ]
     },
     "execution_count": 54,
     "metadata": {},
     "output_type": "execute_result"
    }
   ],
   "source": [
    "#Question 6\n",
    "mile = 50\n",
    "hour = 60*60\n",
    "time = 2*60\n",
    "mile = 1.86*50\n",
    "m = mile/hour\n",
    "p = m/1000\n",
    "a = 0.001241777777778\n",
    "v = p + a*time\n",
    "print('The velocity is'),v,\"m/s\""
   ]
  },
  {
   "cell_type": "code",
   "execution_count": null,
   "metadata": {},
   "outputs": [],
   "source": [
    "#Question 7\n"
   ]
  }
 ],
 "metadata": {
  "kernelspec": {
   "display_name": "Python 3",
   "language": "python",
   "name": "python3"
  },
  "language_info": {
   "codemirror_mode": {
    "name": "ipython",
    "version": 3
   },
   "file_extension": ".py",
   "mimetype": "text/x-python",
   "name": "python",
   "nbconvert_exporter": "python",
   "pygments_lexer": "ipython3",
   "version": "3.6.5"
  }
 },
 "nbformat": 4,
 "nbformat_minor": 2
}
